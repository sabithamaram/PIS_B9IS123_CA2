{
 "cells": [
  {
   "cell_type": "markdown",
   "metadata": {},
   "source": [
    "# Create an Information System for a selected domain of interest.\n",
    "\n",
    "You may use any back-end, including a DB developed in another module.\n",
    "You may use any front-end, including CLI, GUI, web and API.\n",
    "Describe the requirements of the information system, including users, data requirements, search, sorting, entry, update, validation, integrity, reporting etc.\n",
    "Implement and test the Information System, and document your implementation thoroughly.\n",
    "You must use public git (e.g. GitHub) to manage your source and versioning, with regular frequent commits.\n",
    "You must attribute all code not written from scratch, either in accordance with its licence, if applicable, or if not, #taken from ...\n",
    "You may use any programming language, however example programs will be presented in Python.\n",
    "Groups must not exceed three members.\n",
    "There will be a presentation in January, with the Moderator present, in order to assist in grading the work\n",
    "Technical questions may be asked of any member of the group, and the assignment is individually marked. The contribution reports and GitHub record may be used to direct questions and to allocate marks.\n",
    "All groups must submit a group report, containing individual contribution reports and a link to GitHub\n",
    "All individuals must submit a reflective report on their experience of the group, assignment, and module"
   ]
  },
  {
   "cell_type": "markdown",
   "metadata": {},
   "source": [
    "https://github.com/sabithamaram/PIS_B9IS123_CA2"
   ]
  },
  {
   "cell_type": "code",
   "execution_count": 30,
   "metadata": {},
   "outputs": [
    {
     "name": "stdout",
     "output_type": "stream",
     "text": [
      "Welcome to Student Data Analysis Program!\n",
      "\n",
      "Pick a choice to process data in the way required:\n",
      "1) Claculate the class average\n",
      "2) Plot graph of class growth\n",
      "1\n",
      "[0.2, 0.2, 0.2, 0.0, 0.2, 0.5, 0.5, 0.5, 1.0, 0.5, 0.0, 0.5, 0.5, 0.2, 0.0, 0.2, 0.5, 0.5, 0.2, 0.5, 0.2, 0.5, 0.2, 0.5, 0.2, 0.5, 0.0, 0.5, 1.0, 0.0, 0.5, 0.2, 0.5, 0.5, 1.5, 0.5, 0.5, 1.0, 0.2]\n",
      "\n",
      "The class average is as below:\n",
      "RC:0.40769230769230763\n"
     ]
    }
   ],
   "source": [
    "import pandas as pd\n",
    "from pandas import DataFrame as df\n",
    "import matplotlib.pyplot as plt\n",
    "import numpy as np\n",
    "\n",
    "rc_data = []\n",
    "lis_data = []\n",
    "wri_data = []\n",
    "math_data = []\n",
    "\n",
    "\n",
    "# class_data = class_csv.columns.tolist()\n",
    "# print(class_data)\n",
    "\n",
    "class Avg:\n",
    "    \n",
    "    def __init__(self, data):\n",
    "        self.data = data\n",
    "        \n",
    "        for index, row in data.iterrows():\n",
    "            reading_row_rc = row['RC']\n",
    "            rc_data.append(reading_row_rc)\n",
    "    \n",
    "            reading_row_lis = row['Listening']\n",
    "            lis_data.append(reading_row_lis)\n",
    "            \n",
    "            reading_row_wri = row['Writing']\n",
    "            wri_data.append(reading_row_wri)\n",
    "    \n",
    "            reading_row_math = row['Math']\n",
    "            math_data.append(reading_row_math)\n",
    "    \n",
    "        print(rc_data)\n",
    "#         print(row['Order'], row['Name'])\n",
    "        \n",
    "    \n",
    "    def rc(self):\n",
    "        return sum(rc_data)/len(rc_data)\n",
    "\n",
    "class_csv = pd.read_csv(r'/Users/srikanthshileshpasam/OneDrive - Dublin Business School (DBS)/Python/CA2/Data/Class_1_2014.csv')\n",
    "# print(class_csv)\n",
    "\n",
    "\n",
    "    \n",
    "choice = int(input('Welcome to Student Data Analysis Program!\\n\\nPick a choice to process data in the way required:\\n1) Claculate the class average\\n2) Plot graph of class growth\\n'))\n",
    "if choice == 1:\n",
    "    class_average = Avg(class_csv)\n",
    "    class_average_rc = class_average.rc()\n",
    "    \n",
    "    print('\\nThe class average is as below:\\nRC: %.2f' %class_average_rc)"
   ]
  },
  {
   "cell_type": "code",
   "execution_count": null,
   "metadata": {},
   "outputs": [],
   "source": []
  },
  {
   "cell_type": "code",
   "execution_count": null,
   "metadata": {},
   "outputs": [],
   "source": []
  }
 ],
 "metadata": {
  "kernelspec": {
   "display_name": "Python 3",
   "language": "python",
   "name": "python3"
  },
  "language_info": {
   "codemirror_mode": {
    "name": "ipython",
    "version": 3
   },
   "file_extension": ".py",
   "mimetype": "text/x-python",
   "name": "python",
   "nbconvert_exporter": "python",
   "pygments_lexer": "ipython3",
   "version": "3.7.4"
  }
 },
 "nbformat": 4,
 "nbformat_minor": 2
}
