{
 "cells": [
  {
   "cell_type": "markdown",
   "metadata": {},
   "source": [
    "# Create an Information System for a selected domain of interest.\n",
    "\n",
    "You may use any back-end, including a DB developed in another module.\n",
    "You may use any front-end, including CLI, GUI, web and API.\n",
    "Describe the requirements of the information system, including users, data requirements, search, sorting, entry, update, validation, integrity, reporting etc.\n",
    "Implement and test the Information System, and document your implementation thoroughly.\n",
    "You must use public git (e.g. GitHub) to manage your source and versioning, with regular frequent commits.\n",
    "You must attribute all code not written from scratch, either in accordance with its licence, if applicable, or if not, #taken from ...\n",
    "You may use any programming language, however example programs will be presented in Python.\n",
    "Groups must not exceed three members.\n",
    "There will be a presentation in January, with the Moderator present, in order to assist in grading the work\n",
    "Technical questions may be asked of any member of the group, and the assignment is individually marked. The contribution reports and GitHub record may be used to direct questions and to allocate marks.\n",
    "All groups must submit a group report, containing individual contribution reports and a link to GitHub\n",
    "All individuals must submit a reflective report on their experience of the group, assignment, and module"
   ]
  },
  {
   "cell_type": "markdown",
   "metadata": {},
   "source": [
    "https://github.com/sabithamaram/PIS_B9IS123_CA2"
   ]
  },
  {
   "cell_type": "code",
   "execution_count": 25,
   "metadata": {},
   "outputs": [
    {
     "name": "stdout",
     "output_type": "stream",
     "text": [
      "[0.2, 0.2, 0.2, 0.0, nan, 0.5, 0.5, 0.5, 1.0, 0.5, 0.0, 0.5, 0.5, 0.2, 0.0, 0.2, nan, 0.5, 0.2, 0.5, 0.2, 0.5, 0.2, 0.5, 0.2, 0.5, 0.0, 0.5, 1.0, 0.0, 0.5, 0.2, 0.5, nan, 1.5, 0.5, 0.5, nan, nan]\n"
     ]
    }
   ],
   "source": [
    "import pandas as pd\n",
    "from pandas import DataFrame as df\n",
    "import matplotlib.pyplot as plt\n",
    "import numpy as np\n",
    "\n",
    "data_row = []\n",
    "\n",
    "class_csv = pd.read_csv(r'/Users/srikanthshileshpasam/OneDrive - Dublin Business School (DBS)/Python/CA2/Data/Class_1_2014.csv')\n",
    "# print(class_csv)\n",
    "\n",
    "# class_data = class_csv.columns.tolist()\n",
    "# print(class_data)\n",
    "\n",
    "for index, row in class_csv.iterrows():\n",
    "    reading_row = row['RC']\n",
    "    data_row.append(reading_row)\n",
    "print(data_row)\n",
    "#     print(row['Order'], row['Name'])\n",
    "\n",
    "class Avg:\n",
    "    def __init__(self, data):\n",
    "        self.data = data\n",
    "    \n",
    "    def rc(self):\n",
    "        pass\n"
   ]
  },
  {
   "cell_type": "code",
   "execution_count": null,
   "metadata": {},
   "outputs": [],
   "source": []
  },
  {
   "cell_type": "code",
   "execution_count": null,
   "metadata": {},
   "outputs": [],
   "source": []
  }
 ],
 "metadata": {
  "kernelspec": {
   "display_name": "Python 3",
   "language": "python",
   "name": "python3"
  },
  "language_info": {
   "codemirror_mode": {
    "name": "ipython",
    "version": 3
   },
   "file_extension": ".py",
   "mimetype": "text/x-python",
   "name": "python",
   "nbconvert_exporter": "python",
   "pygments_lexer": "ipython3",
   "version": "3.7.4"
  }
 },
 "nbformat": 4,
 "nbformat_minor": 2
}
