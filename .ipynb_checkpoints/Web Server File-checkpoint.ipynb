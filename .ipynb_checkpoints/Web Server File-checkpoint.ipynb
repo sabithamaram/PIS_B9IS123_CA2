{
 "cells": [
  {
   "cell_type": "code",
   "execution_count": null,
   "metadata": {},
   "outputs": [],
   "source": [
    "# Importing required libraries\n",
    "import pandas as pd\n",
    "from pandas import DataFrame\n",
    "from tabulate import tabulate as tb\n",
    "import matplotlib.pyplot as plt\n",
    "import numpy as np\n",
    "\n",
    "# Creating a class to read the external CSV data files\n",
    "class ReadData:\n",
    "    def __init__(self, user_grade_choice, user_year_choice):\n",
    "        self.user_grade_choice = user_grade_choice\n",
    "        self.user_year_choice = user_year_choice\n",
    "  # Creating a method to read external CSV files individually based on grade level and year\n",
    "    def read_file(self):\n",
    "        if self.user_grade_choice == 1:\n",
    "            if self.user_year_choice == 2014:\n",
    "                return pd.read_csv(r'/Users/srikanthshileshpasam/OneDrive - Dublin Business School (DBS)/Python/CA2/Data/Class_1_2014.csv')\n",
    "            elif year_choice == 2015:\n",
    "                return pd.read_csv(r'/Users/srikanthshileshpasam/OneDrive - Dublin Business School (DBS)/Python/CA2/Data/Class_1_2015.csv')\n",
    "            elif year_choice == 2016:\n",
    "                return pd.read_csv(r'/Users/srikanthshileshpasam/OneDrive - Dublin Business School (DBS)/Python/CA2/Data/Class_1_2016.csv')\n",
    "            else:\n",
    "                return False\n",
    "        elif self.user_grade_choice == 2:\n",
    "            if self.user_year_choice == 2014:\n",
    "                return pd.read_csv(r'/Users/srikanthshileshpasam/OneDrive - Dublin Business School (DBS)/Python/CA2/Data/Class_2_2014.csv')\n",
    "            elif year_choice == 2015:\n",
    "                   return pd.read_csv(r'/Users/srikanthshileshpasam/OneDrive - Dublin Business School (DBS)/Python/CA2/Data/Class_2_2015.csv')\n",
    "            elif year_choice == 2016:\n",
    "                return pd.read_csv(r'/Users/srikanthshileshpasam/OneDrive - Dublin Business School (DBS)/Python/CA2/Data/Class_2_2016.csv')\n",
    "            else:\n",
    "                return False\n",
    "        \n",
    "        else:\n",
    "            return False\n",
    "\n",
    "        "
   ]
  }
 ],
 "metadata": {
  "kernelspec": {
   "display_name": "Python 3",
   "language": "python",
   "name": "python3"
  },
  "language_info": {
   "codemirror_mode": {
    "name": "ipython",
    "version": 3
   },
   "file_extension": ".py",
   "mimetype": "text/x-python",
   "name": "python",
   "nbconvert_exporter": "python",
   "pygments_lexer": "ipython3",
   "version": "3.7.3"
  }
 },
 "nbformat": 4,
 "nbformat_minor": 2
}
